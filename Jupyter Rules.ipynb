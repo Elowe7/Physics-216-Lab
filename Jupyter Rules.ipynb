{
 "cells": [
  {
   "cell_type": "code",
   "execution_count": 49,
   "metadata": {},
   "outputs": [
    {
     "name": "stdout",
     "output_type": "stream",
     "text": [
      "0.25\n",
      "4.905000000000001\n",
      "1.104536101718726\n",
      "0.023125413687634343 produced the same value as the spreadsheet for the uncertainty in centripetal acceleration\n",
      "0.17950549357115014 Standard Deviation\n",
      "1.1166666666666667 Dataset Average\n",
      "0.073282810879294 Uncertainty in Dataset\n"
     ]
    }
   ],
   "source": [
    "import numpy as np\n",
    "\n",
    "#write Rule 1\n",
    "def rule1(c, dG):\n",
    "    dF=(abs(c)*dG)\n",
    "    return dF\n",
    "c = -5\n",
    "dG = .05\n",
    "error1 = rule1(c, dG)\n",
    "print (error)\n",
    "\n",
    "#write Rule 2\n",
    "def rule2(d,m,x,A,dX):\n",
    "    dQ=abs(d*m*(A**x))*dX\n",
    "    return dQ\n",
    "d = 9.81\n",
    "m = 2\n",
    "x = m-1\n",
    "A = 5\n",
    "dX = .05\n",
    "error2 = rule2(d,m,x,A,dX)\n",
    "print (error2)\n",
    "\n",
    "#write rule 3\n",
    "def rule3(dA, dB):\n",
    "    dQ=np.sqrt(dA**2+dB**2)\n",
    "    return dQ\n",
    "dA = .1\n",
    "dB = 1.1\n",
    "error3 = rule3(dA, dB)\n",
    "\n",
    "print (errT)\n",
    "\n",
    "#write Rule 4\n",
    "def rule4(x,e,dE,y,u,dU):\n",
    "    dQ=Q*np.sqrt((x*(dE/e))**2+(y*(dU/u))**2) \n",
    "    return dQ\n",
    "Q = 0.7831766083\n",
    "x = 1\n",
    "e = 0.2083\n",
    "dE = 0.0001\n",
    "y = 1\n",
    "u = 10.5\n",
    "dU = .31\n",
    "error4=rule4(x,e,dE,y,u,dU)\n",
    "print (str(error4) + \" produced the same value as the spreadsheet for the uncertainty in centripetal acceleration\")\n",
    "\n",
    "\n",
    "#Standard Deviation, Average and Error in Dataset\n",
    "\n",
    "x = np.array([1.1,1.3,1.4,.9,.95,1.05])\n",
    "\n",
    "print (str(np.std(x)) + \" Standard Deviation\") \n",
    "print (str(np.average(x)) + \" Dataset Average\")\n",
    "\n",
    "def errordata(s,n):\n",
    "    data=s/(n**.5)\n",
    "    return data\n",
    "s = np.std(x)\n",
    "n = 6\n",
    "\n",
    "errord = errordata(s,n)\n",
    "print (str(errord) + \" Uncertainty in Dataset\")"
   ]
  },
  {
   "cell_type": "code",
   "execution_count": null,
   "metadata": {},
   "outputs": [],
   "source": []
  },
  {
   "cell_type": "markdown",
   "metadata": {},
   "source": [
    "Rule 3 in Markdown\n",
    "$\\delta Q = \\sqrt{(\\delta A)^2 + (\\delta B)^2}$"
   ]
  },
  {
   "cell_type": "markdown",
   "metadata": {},
   "source": [
    "Rule 3 of Centripetal Force in Markdown\n",
    "$\\delta \\Sigma F = \\sqrt{(\\delta m/m)^2 + (\\delta Slope/Slope)^2}$"
   ]
  },
  {
   "cell_type": "code",
   "execution_count": null,
   "metadata": {},
   "outputs": [],
   "source": []
  }
 ],
 "metadata": {
  "kernelspec": {
   "display_name": "Python 3",
   "language": "python",
   "name": "python3"
  },
  "language_info": {
   "codemirror_mode": {
    "name": "ipython",
    "version": 3
   },
   "file_extension": ".py",
   "mimetype": "text/x-python",
   "name": "python",
   "nbconvert_exporter": "python",
   "pygments_lexer": "ipython3",
   "version": "3.8.3"
  }
 },
 "nbformat": 4,
 "nbformat_minor": 4
}
